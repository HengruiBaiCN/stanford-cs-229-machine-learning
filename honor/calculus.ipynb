{
 "cells": [
  {
   "cell_type": "code",
   "execution_count": 2,
   "metadata": {},
   "outputs": [],
   "source": [
    "import matplotlib.pyplot as plt\n",
    "import pandas as pd\n",
    "import numpy as np\n",
    "import sympy as sym\n"
   ]
  },
  {
   "attachments": {},
   "cell_type": "markdown",
   "metadata": {},
   "source": [
    "# Refresh\n",
    "https://www.geeksforgeeks.org/how-to-do-calculus-with-python/"
   ]
  },
  {
   "cell_type": "code",
   "execution_count": 3,
   "metadata": {},
   "outputs": [
    {
     "data": {
      "image/png": "[encoded data removed]",
      "text/plain": [
       "<Figure size 640x480 with 1 Axes>"
      ]
     },
     "metadata": {},
     "output_type": "display_data"
    }
   ],
   "source": [
    "# start as a refresh of python and matplotlib\n",
    "\n",
    "#create a list of input x\n",
    "input_list = list(range(0, 100))\n",
    "# print(input_list)\n",
    "\n",
    "#create an empty list of output\n",
    "output_list = list()\n",
    "# print(output_list)\n",
    "\n",
    "#A simple function\n",
    "y = lambda x : 2 + x\n",
    "# print(y(2))\n",
    "\n",
    "#calculate the output y for each time point t\n",
    "for i in input_list:\n",
    "    output = y(i)\n",
    "    output_list.append(output)\n",
    "    # print(output_list)\n",
    "    pass\n",
    "\n",
    "#plot the graph\n",
    "plt.plot(output_list)\n",
    "plt.ylabel('some numbers')\n",
    "plt.show()"
   ]
  },
  {
   "attachments": {},
   "cell_type": "markdown",
   "metadata": {},
   "source": [
    "# Euler's method"
   ]
  },
  {
   "cell_type": "code",
   "execution_count": 4,
   "metadata": {},
   "outputs": [
    {
     "name": "stdout",
     "output_type": "stream",
     "text": [
      "Enter initial conditions:\n",
      "Enter calculation point: \n",
      "Enter number of steps:\n",
      "h = 1.0\n",
      "\n",
      "-----------SOLUTION-----------\n",
      "------------------------------\n",
      "t0\t y0\t slope\t yn\n",
      "------------------------------\n",
      "0.0000\t1.0000\t1.0000\t2.0000\n",
      "------------------------------\n",
      "1.0000\t2.0000\t3.0000\t5.0000\n",
      "------------------------------\n",
      "2.0000\t5.0000\t7.0000\t12.0000\n",
      "------------------------------\n",
      "3.0000\t12.0000\t15.0000\t27.0000\n",
      "------------------------------\n",
      "4.0000\t27.0000\t31.0000\t58.0000\n",
      "------------------------------\n",
      "5.0000\t58.0000\t63.0000\t121.0000\n",
      "------------------------------\n",
      "6.0000\t121.0000\t127.0000\t248.0000\n",
      "------------------------------\n",
      "7.0000\t248.0000\t255.0000\t503.0000\n",
      "------------------------------\n",
      "8.0000\t503.0000\t511.0000\t1014.0000\n",
      "------------------------------\n",
      "9.0000\t1014.0000\t1023.0000\t2037.0000\n",
      "------------------------------\n",
      "\n",
      "At x=10.0000, y=2037.0000\n"
     ]
    }
   ],
   "source": [
    "#change the lambda function to a function with two input values\n",
    "# function that need to be approximated\n",
    "def f(x, y):\n",
    "    return x + y\n",
    "\n",
    "#Euler's method\n",
    "def euler(t0, y0, tn, n):\n",
    "    \n",
    "    #calculating step size\n",
    "    h = (tn - t0) / n\n",
    "    print(f'h = {h}')\n",
    "    print('\\n-----------SOLUTION-----------')\n",
    "    print('------------------------------')    \n",
    "    print('t0\\t y0\\t slope\\t yn')\n",
    "    print('------------------------------')\n",
    "    for i in range(n):\n",
    "        slope = f(t0, y0)\n",
    "        yn = y0 + h * slope\n",
    "        print('%.4f\\t%.4f\\t%0.4f\\t%.4f'% (t0, y0, slope, yn) )\n",
    "        print('------------------------------')\n",
    "        y0 = yn\n",
    "        t0 = t0 + h\n",
    "    \n",
    "    print('\\nAt x=%.4f, y=%.4f' %(tn, yn))\n",
    "    pass\n",
    "\n",
    "# Inputs\n",
    "print('Enter initial conditions:')\n",
    "# t0 = float(input('t0 = '))\n",
    "# y0 = float(input('y0 = '))\n",
    "t0 = 0\n",
    "y0 = 1\n",
    "\n",
    "print('Enter calculation point: ')\n",
    "# tn = float(input('tn = '))\n",
    "tn = 10\n",
    "\n",
    "print('Enter number of steps:')\n",
    "# step = int(input('Number of steps = '))\n",
    "step =  10\n",
    "\n",
    "# Euler method call\n",
    "euler(t0, y0, tn, step)\n"
   ]
  },
  {
   "attachments": {},
   "cell_type": "markdown",
   "metadata": {},
   "source": [
    "# Newton's method"
   ]
  },
  {
   "cell_type": "code",
   "execution_count": 5,
   "metadata": {},
   "outputs": [
    {
     "name": "stdout",
     "output_type": "stream",
     "text": [
      "2*x + 10\n",
      "-2.9999999999999996 0.0\n"
     ]
    }
   ],
   "source": [
    "# Declare variables\n",
    "x = sym.Symbol('x')\n",
    "\n",
    "# Delcare the function\n",
    "f = x**2 + 10*x + 21\n",
    "\n",
    "# Differenciate the function with respect to x\n",
    "diff_f = sym.diff(f,x)\n",
    "print(diff_f)\n",
    "\n",
    "# \n",
    "f_func = sym.lambdify(x, f, 'numpy')\n",
    "diff_f_func = sym.lambdify(x, diff_f, 'numpy')\n",
    " \n",
    "def newtonMethod(x0, iterationNumber, f, df):\n",
    "    x = x0\n",
    "    for i in range(iterationNumber):\n",
    "        x = x - f(x) / df(x)\n",
    "        pass\n",
    "    residual = np.abs(f(x))\n",
    "    return x, residual\n",
    "\n",
    "\n",
    "solution, residual = newtonMethod(-2,200, f_func, diff_f_func)\n",
    "print(solution, residual)\n"
   ]
  },
  {
   "attachments": {},
   "cell_type": "markdown",
   "metadata": {},
   "source": [
    "# Differentiation\n",
    "We can differentiate any sympy expression by using diff(func, var) method. The parameter func denotes the sympy expression to be differentiated and var denotes the variable with respect to which we have to differentiate."
   ]
  },
  {
   "cell_type": "code",
   "execution_count": 6,
   "metadata": {},
   "outputs": [
    {
     "name": "stdout",
     "output_type": "stream",
     "text": [
      "derivative w.r.t x:  3*x**2*y\n",
      "derivative w.r.t y:  x**3 + 3*y**2\n"
     ]
    },
    {
     "ename": "",
     "evalue": "",
     "output_type": "error",
     "traceback": [
      "\u001b[1;31mThe Kernel crashed while executing code in the the current cell or a previous cell. Please review the code in the cell(s) to identify a possible cause of the failure. Click <a href='https://aka.ms/vscodeJupyterKernelCrash'>here</a> for more info. View Jupyter <a href='command:jupyter.viewOutput'>log</a> for further details."
     ]
    }
   ],
   "source": [
    "# Declaring variables\n",
    "x, y, z = sym.symbols('x y z')\n",
    " \n",
    "# expression of which we have to find derivative\n",
    "exp = x**3 * y + y**3 + z\n",
    " \n",
    "# Differentiating exp with respect to x\n",
    "derivative1_x = sym.diff(exp, x)\n",
    "print('derivative w.r.t x: ',\n",
    "      derivative1_x)\n",
    " \n",
    "# Differentiating exp with respect to y\n",
    "derivative1_y = sym.diff(exp, y)\n",
    "print('derivative w.r.t y: ',\n",
    "      derivative1_y)"
   ]
  }
 ],
 "metadata": {
  "kernelspec": {
   "display_name": "Python 3",
   "language": "python",
   "name": "python3"
  },
  "language_info": {
   "codemirror_mode": {
    "name": "ipython",
    "version": 3
   },
   "file_extension": ".py",
   "mimetype": "text/x-python",
   "name": "python",
   "nbconvert_exporter": "python",
   "pygments_lexer": "ipython3",
   "version": "3.8.10"
  },
  "orig_nbformat": 4,
  "vscode": {
   "interpreter": {
    "hash": "b4c01c8f52586033bb4bb2bf4f864991e275e728809d596b5bf2a750c26b84f7"
   }
  }
 },
 "nbformat": 4,
 "nbformat_minor": 2
}
